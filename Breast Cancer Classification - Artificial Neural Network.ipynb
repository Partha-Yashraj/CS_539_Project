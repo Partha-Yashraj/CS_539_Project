{
  "nbformat": 4,
  "nbformat_minor": 0,
  "metadata": {
    "colab": {
      "name": "Breast Cancer Classification (ANN).ipynb",
      "provenance": []
    },
    "kernelspec": {
      "name": "python3",
      "display_name": "Python 3"
    },
    "language_info": {
      "name": "python"
    }
  },
  "cells": [
    {
      "cell_type": "code",
      "execution_count": null,
      "metadata": {
        "id": "r5bBKANbRYda"
      },
      "outputs": [],
      "source": [
        "import numpy as np\n",
        "import pandas as pd\n",
        "import matplotlib.pyplot as plt\n",
        "import sklearn.datasets\n",
        "from sklearn.model_selection import train_test_split\n",
        "from sklearn.preprocessing import StandardScaler\n",
        "import tensorflow as tf \n",
        "from tensorflow import keras\n",
        "from sklearn.metrics import confusion_matrix\n",
        "import seaborn as sns"
      ]
    },
    {
      "cell_type": "code",
      "source": [
        "bc_data = sklearn.datasets.load_breast_cancer()"
      ],
      "metadata": {
        "id": "4s2WP2dkTiVM"
      },
      "execution_count": null,
      "outputs": []
    },
    {
      "cell_type": "code",
      "source": [
        "df = pd.DataFrame(bc_data.data, columns = bc_data.feature_names)\n",
        "df[\"target\"] = bc_data.target\n",
        "print(df)"
      ],
      "metadata": {
        "colab": {
          "base_uri": "https://localhost:8080/"
        },
        "id": "u1R0ySgeTiv6",
        "outputId": "058272bd-30e7-490b-b849-ada1b4bc4425"
      },
      "execution_count": null,
      "outputs": [
        {
          "output_type": "stream",
          "name": "stdout",
          "text": [
            "     mean radius  mean texture  mean perimeter  mean area  mean smoothness  \\\n",
            "0          17.99         10.38          122.80     1001.0          0.11840   \n",
            "1          20.57         17.77          132.90     1326.0          0.08474   \n",
            "2          19.69         21.25          130.00     1203.0          0.10960   \n",
            "3          11.42         20.38           77.58      386.1          0.14250   \n",
            "4          20.29         14.34          135.10     1297.0          0.10030   \n",
            "..           ...           ...             ...        ...              ...   \n",
            "564        21.56         22.39          142.00     1479.0          0.11100   \n",
            "565        20.13         28.25          131.20     1261.0          0.09780   \n",
            "566        16.60         28.08          108.30      858.1          0.08455   \n",
            "567        20.60         29.33          140.10     1265.0          0.11780   \n",
            "568         7.76         24.54           47.92      181.0          0.05263   \n",
            "\n",
            "     mean compactness  mean concavity  mean concave points  mean symmetry  \\\n",
            "0             0.27760         0.30010              0.14710         0.2419   \n",
            "1             0.07864         0.08690              0.07017         0.1812   \n",
            "2             0.15990         0.19740              0.12790         0.2069   \n",
            "3             0.28390         0.24140              0.10520         0.2597   \n",
            "4             0.13280         0.19800              0.10430         0.1809   \n",
            "..                ...             ...                  ...            ...   \n",
            "564           0.11590         0.24390              0.13890         0.1726   \n",
            "565           0.10340         0.14400              0.09791         0.1752   \n",
            "566           0.10230         0.09251              0.05302         0.1590   \n",
            "567           0.27700         0.35140              0.15200         0.2397   \n",
            "568           0.04362         0.00000              0.00000         0.1587   \n",
            "\n",
            "     mean fractal dimension  ...  worst texture  worst perimeter  worst area  \\\n",
            "0                   0.07871  ...          17.33           184.60      2019.0   \n",
            "1                   0.05667  ...          23.41           158.80      1956.0   \n",
            "2                   0.05999  ...          25.53           152.50      1709.0   \n",
            "3                   0.09744  ...          26.50            98.87       567.7   \n",
            "4                   0.05883  ...          16.67           152.20      1575.0   \n",
            "..                      ...  ...            ...              ...         ...   \n",
            "564                 0.05623  ...          26.40           166.10      2027.0   \n",
            "565                 0.05533  ...          38.25           155.00      1731.0   \n",
            "566                 0.05648  ...          34.12           126.70      1124.0   \n",
            "567                 0.07016  ...          39.42           184.60      1821.0   \n",
            "568                 0.05884  ...          30.37            59.16       268.6   \n",
            "\n",
            "     worst smoothness  worst compactness  worst concavity  \\\n",
            "0             0.16220            0.66560           0.7119   \n",
            "1             0.12380            0.18660           0.2416   \n",
            "2             0.14440            0.42450           0.4504   \n",
            "3             0.20980            0.86630           0.6869   \n",
            "4             0.13740            0.20500           0.4000   \n",
            "..                ...                ...              ...   \n",
            "564           0.14100            0.21130           0.4107   \n",
            "565           0.11660            0.19220           0.3215   \n",
            "566           0.11390            0.30940           0.3403   \n",
            "567           0.16500            0.86810           0.9387   \n",
            "568           0.08996            0.06444           0.0000   \n",
            "\n",
            "     worst concave points  worst symmetry  worst fractal dimension  target  \n",
            "0                  0.2654          0.4601                  0.11890       0  \n",
            "1                  0.1860          0.2750                  0.08902       0  \n",
            "2                  0.2430          0.3613                  0.08758       0  \n",
            "3                  0.2575          0.6638                  0.17300       0  \n",
            "4                  0.1625          0.2364                  0.07678       0  \n",
            "..                    ...             ...                      ...     ...  \n",
            "564                0.2216          0.2060                  0.07115       0  \n",
            "565                0.1628          0.2572                  0.06637       0  \n",
            "566                0.1418          0.2218                  0.07820       0  \n",
            "567                0.2650          0.4087                  0.12400       0  \n",
            "568                0.0000          0.2871                  0.07039       1  \n",
            "\n",
            "[569 rows x 31 columns]\n"
          ]
        }
      ]
    },
    {
      "cell_type": "code",
      "source": [
        "df.info()"
      ],
      "metadata": {
        "colab": {
          "base_uri": "https://localhost:8080/"
        },
        "id": "pNd1tsLwTl9E",
        "outputId": "7dd856b9-1ac7-47e3-ee2d-680b48a351b0"
      },
      "execution_count": null,
      "outputs": [
        {
          "output_type": "stream",
          "name": "stdout",
          "text": [
            "<class 'pandas.core.frame.DataFrame'>\n",
            "RangeIndex: 569 entries, 0 to 568\n",
            "Data columns (total 31 columns):\n",
            " #   Column                   Non-Null Count  Dtype  \n",
            "---  ------                   --------------  -----  \n",
            " 0   mean radius              569 non-null    float64\n",
            " 1   mean texture             569 non-null    float64\n",
            " 2   mean perimeter           569 non-null    float64\n",
            " 3   mean area                569 non-null    float64\n",
            " 4   mean smoothness          569 non-null    float64\n",
            " 5   mean compactness         569 non-null    float64\n",
            " 6   mean concavity           569 non-null    float64\n",
            " 7   mean concave points      569 non-null    float64\n",
            " 8   mean symmetry            569 non-null    float64\n",
            " 9   mean fractal dimension   569 non-null    float64\n",
            " 10  radius error             569 non-null    float64\n",
            " 11  texture error            569 non-null    float64\n",
            " 12  perimeter error          569 non-null    float64\n",
            " 13  area error               569 non-null    float64\n",
            " 14  smoothness error         569 non-null    float64\n",
            " 15  compactness error        569 non-null    float64\n",
            " 16  concavity error          569 non-null    float64\n",
            " 17  concave points error     569 non-null    float64\n",
            " 18  symmetry error           569 non-null    float64\n",
            " 19  fractal dimension error  569 non-null    float64\n",
            " 20  worst radius             569 non-null    float64\n",
            " 21  worst texture            569 non-null    float64\n",
            " 22  worst perimeter          569 non-null    float64\n",
            " 23  worst area               569 non-null    float64\n",
            " 24  worst smoothness         569 non-null    float64\n",
            " 25  worst compactness        569 non-null    float64\n",
            " 26  worst concavity          569 non-null    float64\n",
            " 27  worst concave points     569 non-null    float64\n",
            " 28  worst symmetry           569 non-null    float64\n",
            " 29  worst fractal dimension  569 non-null    float64\n",
            " 30  target                   569 non-null    int64  \n",
            "dtypes: float64(30), int64(1)\n",
            "memory usage: 137.9 KB\n"
          ]
        }
      ]
    },
    {
      "cell_type": "code",
      "source": [
        "df.isna().sum()"
      ],
      "metadata": {
        "colab": {
          "base_uri": "https://localhost:8080/"
        },
        "id": "qCPJG08TTnR3",
        "outputId": "41545320-6fd0-4ea6-da50-b9fc6ac8b220"
      },
      "execution_count": null,
      "outputs": [
        {
          "output_type": "execute_result",
          "data": {
            "text/plain": [
              "mean radius                0\n",
              "mean texture               0\n",
              "mean perimeter             0\n",
              "mean area                  0\n",
              "mean smoothness            0\n",
              "mean compactness           0\n",
              "mean concavity             0\n",
              "mean concave points        0\n",
              "mean symmetry              0\n",
              "mean fractal dimension     0\n",
              "radius error               0\n",
              "texture error              0\n",
              "perimeter error            0\n",
              "area error                 0\n",
              "smoothness error           0\n",
              "compactness error          0\n",
              "concavity error            0\n",
              "concave points error       0\n",
              "symmetry error             0\n",
              "fractal dimension error    0\n",
              "worst radius               0\n",
              "worst texture              0\n",
              "worst perimeter            0\n",
              "worst area                 0\n",
              "worst smoothness           0\n",
              "worst compactness          0\n",
              "worst concavity            0\n",
              "worst concave points       0\n",
              "worst symmetry             0\n",
              "worst fractal dimension    0\n",
              "target                     0\n",
              "dtype: int64"
            ]
          },
          "metadata": {},
          "execution_count": 5
        }
      ]
    },
    {
      "cell_type": "code",
      "source": [
        "X = df.iloc[:,:10]\n",
        "print(X)\n",
        "y = df.iloc[:,-1]\n",
        "print(y)"
      ],
      "metadata": {
        "colab": {
          "base_uri": "https://localhost:8080/"
        },
        "id": "asJcshTlToiS",
        "outputId": "a06c3b1c-87c4-46be-f13a-0a789f04070d"
      },
      "execution_count": null,
      "outputs": [
        {
          "output_type": "stream",
          "name": "stdout",
          "text": [
            "     mean radius  mean texture  mean perimeter  mean area  mean smoothness  \\\n",
            "0          17.99         10.38          122.80     1001.0          0.11840   \n",
            "1          20.57         17.77          132.90     1326.0          0.08474   \n",
            "2          19.69         21.25          130.00     1203.0          0.10960   \n",
            "3          11.42         20.38           77.58      386.1          0.14250   \n",
            "4          20.29         14.34          135.10     1297.0          0.10030   \n",
            "..           ...           ...             ...        ...              ...   \n",
            "564        21.56         22.39          142.00     1479.0          0.11100   \n",
            "565        20.13         28.25          131.20     1261.0          0.09780   \n",
            "566        16.60         28.08          108.30      858.1          0.08455   \n",
            "567        20.60         29.33          140.10     1265.0          0.11780   \n",
            "568         7.76         24.54           47.92      181.0          0.05263   \n",
            "\n",
            "     mean compactness  mean concavity  mean concave points  mean symmetry  \\\n",
            "0             0.27760         0.30010              0.14710         0.2419   \n",
            "1             0.07864         0.08690              0.07017         0.1812   \n",
            "2             0.15990         0.19740              0.12790         0.2069   \n",
            "3             0.28390         0.24140              0.10520         0.2597   \n",
            "4             0.13280         0.19800              0.10430         0.1809   \n",
            "..                ...             ...                  ...            ...   \n",
            "564           0.11590         0.24390              0.13890         0.1726   \n",
            "565           0.10340         0.14400              0.09791         0.1752   \n",
            "566           0.10230         0.09251              0.05302         0.1590   \n",
            "567           0.27700         0.35140              0.15200         0.2397   \n",
            "568           0.04362         0.00000              0.00000         0.1587   \n",
            "\n",
            "     mean fractal dimension  \n",
            "0                   0.07871  \n",
            "1                   0.05667  \n",
            "2                   0.05999  \n",
            "3                   0.09744  \n",
            "4                   0.05883  \n",
            "..                      ...  \n",
            "564                 0.05623  \n",
            "565                 0.05533  \n",
            "566                 0.05648  \n",
            "567                 0.07016  \n",
            "568                 0.05884  \n",
            "\n",
            "[569 rows x 10 columns]\n",
            "0      0\n",
            "1      0\n",
            "2      0\n",
            "3      0\n",
            "4      0\n",
            "      ..\n",
            "564    0\n",
            "565    0\n",
            "566    0\n",
            "567    0\n",
            "568    1\n",
            "Name: target, Length: 569, dtype: int64\n"
          ]
        }
      ]
    },
    {
      "cell_type": "code",
      "source": [
        "X_train, X_test, y_train, y_test = train_test_split(X,y,train_size=0.7,random_state=0)"
      ],
      "metadata": {
        "id": "BcjvFCb9T4vI"
      },
      "execution_count": null,
      "outputs": []
    },
    {
      "cell_type": "code",
      "source": [
        "ss = StandardScaler()\n",
        "\n",
        "X_train_std = ss.fit_transform(X_train)\n",
        "X_test_std = ss.transform(X_test)"
      ],
      "metadata": {
        "id": "7dRjWuaJT8gj"
      },
      "execution_count": null,
      "outputs": []
    },
    {
      "cell_type": "code",
      "source": [
        "tf.random.set_seed(0)\n",
        "\n",
        "model = keras.Sequential([\n",
        "                          keras.layers.Flatten(input_shape=(10,)),\n",
        "                          keras.layers.Dense(20, activation='relu'),\n",
        "                          keras.layers.Dense(20, activation='relu'),\n",
        "                          keras.layers.Dense(2, activation='sigmoid')])\n",
        "\n",
        "model.compile(optimizer='adam',\n",
        "              loss='sparse_categorical_crossentropy',\n",
        "              metrics=['accuracy'])"
      ],
      "metadata": {
        "id": "XkJLyzhAUHj3"
      },
      "execution_count": null,
      "outputs": []
    },
    {
      "cell_type": "code",
      "source": [
        "nn = model.fit(X_train_std, y_train, validation_split=0.1, epochs=100)"
      ],
      "metadata": {
        "colab": {
          "base_uri": "https://localhost:8080/"
        },
        "id": "nvWste75peHH",
        "outputId": "7c17ac37-db37-4889-e5e7-550f832e45c4"
      },
      "execution_count": null,
      "outputs": [
        {
          "output_type": "stream",
          "name": "stdout",
          "text": [
            "Epoch 1/100\n",
            "12/12 [==============================] - 2s 44ms/step - loss: 0.6102 - accuracy: 0.7095 - val_loss: 0.5267 - val_accuracy: 0.7250\n",
            "Epoch 2/100\n",
            "12/12 [==============================] - 0s 13ms/step - loss: 0.5045 - accuracy: 0.7821 - val_loss: 0.4510 - val_accuracy: 0.8000\n",
            "Epoch 3/100\n",
            "12/12 [==============================] - 0s 12ms/step - loss: 0.4174 - accuracy: 0.8547 - val_loss: 0.3865 - val_accuracy: 0.9000\n",
            "Epoch 4/100\n",
            "12/12 [==============================] - 0s 9ms/step - loss: 0.3471 - accuracy: 0.8855 - val_loss: 0.3323 - val_accuracy: 0.9250\n",
            "Epoch 5/100\n",
            "12/12 [==============================] - 0s 6ms/step - loss: 0.2890 - accuracy: 0.9190 - val_loss: 0.2855 - val_accuracy: 0.9500\n",
            "Epoch 6/100\n",
            "12/12 [==============================] - 0s 7ms/step - loss: 0.2450 - accuracy: 0.9385 - val_loss: 0.2495 - val_accuracy: 0.9750\n",
            "Epoch 7/100\n",
            "12/12 [==============================] - 0s 7ms/step - loss: 0.2126 - accuracy: 0.9441 - val_loss: 0.2234 - val_accuracy: 0.9750\n",
            "Epoch 8/100\n",
            "12/12 [==============================] - 0s 13ms/step - loss: 0.1901 - accuracy: 0.9469 - val_loss: 0.2075 - val_accuracy: 0.9750\n",
            "Epoch 9/100\n",
            "12/12 [==============================] - 0s 12ms/step - loss: 0.1734 - accuracy: 0.9469 - val_loss: 0.1984 - val_accuracy: 0.9500\n",
            "Epoch 10/100\n",
            "12/12 [==============================] - 0s 9ms/step - loss: 0.1612 - accuracy: 0.9497 - val_loss: 0.1907 - val_accuracy: 0.9500\n",
            "Epoch 11/100\n",
            "12/12 [==============================] - 0s 8ms/step - loss: 0.1511 - accuracy: 0.9497 - val_loss: 0.1850 - val_accuracy: 0.9500\n",
            "Epoch 12/100\n",
            "12/12 [==============================] - 0s 8ms/step - loss: 0.1441 - accuracy: 0.9497 - val_loss: 0.1786 - val_accuracy: 0.9500\n",
            "Epoch 13/100\n",
            "12/12 [==============================] - 0s 10ms/step - loss: 0.1378 - accuracy: 0.9525 - val_loss: 0.1817 - val_accuracy: 0.9250\n",
            "Epoch 14/100\n",
            "12/12 [==============================] - 0s 6ms/step - loss: 0.1318 - accuracy: 0.9525 - val_loss: 0.1786 - val_accuracy: 0.9250\n",
            "Epoch 15/100\n",
            "12/12 [==============================] - 0s 7ms/step - loss: 0.1278 - accuracy: 0.9553 - val_loss: 0.1815 - val_accuracy: 0.9250\n",
            "Epoch 16/100\n",
            "12/12 [==============================] - 0s 8ms/step - loss: 0.1239 - accuracy: 0.9581 - val_loss: 0.1792 - val_accuracy: 0.9250\n",
            "Epoch 17/100\n",
            "12/12 [==============================] - 0s 9ms/step - loss: 0.1198 - accuracy: 0.9609 - val_loss: 0.1900 - val_accuracy: 0.9250\n",
            "Epoch 18/100\n",
            "12/12 [==============================] - 0s 8ms/step - loss: 0.1173 - accuracy: 0.9637 - val_loss: 0.1921 - val_accuracy: 0.9250\n",
            "Epoch 19/100\n",
            "12/12 [==============================] - 0s 7ms/step - loss: 0.1145 - accuracy: 0.9637 - val_loss: 0.1952 - val_accuracy: 0.9250\n",
            "Epoch 20/100\n",
            "12/12 [==============================] - 0s 6ms/step - loss: 0.1118 - accuracy: 0.9637 - val_loss: 0.1934 - val_accuracy: 0.9250\n",
            "Epoch 21/100\n",
            "12/12 [==============================] - 0s 8ms/step - loss: 0.1099 - accuracy: 0.9637 - val_loss: 0.1903 - val_accuracy: 0.9250\n",
            "Epoch 22/100\n",
            "12/12 [==============================] - 0s 9ms/step - loss: 0.1078 - accuracy: 0.9637 - val_loss: 0.1933 - val_accuracy: 0.9250\n",
            "Epoch 23/100\n",
            "12/12 [==============================] - 0s 8ms/step - loss: 0.1060 - accuracy: 0.9637 - val_loss: 0.1979 - val_accuracy: 0.9250\n",
            "Epoch 24/100\n",
            "12/12 [==============================] - 0s 13ms/step - loss: 0.1039 - accuracy: 0.9721 - val_loss: 0.2026 - val_accuracy: 0.9250\n",
            "Epoch 25/100\n",
            "12/12 [==============================] - 0s 8ms/step - loss: 0.1025 - accuracy: 0.9721 - val_loss: 0.2088 - val_accuracy: 0.9250\n",
            "Epoch 26/100\n",
            "12/12 [==============================] - 0s 7ms/step - loss: 0.1007 - accuracy: 0.9749 - val_loss: 0.2080 - val_accuracy: 0.9250\n",
            "Epoch 27/100\n",
            "12/12 [==============================] - 0s 8ms/step - loss: 0.0995 - accuracy: 0.9721 - val_loss: 0.2197 - val_accuracy: 0.9250\n",
            "Epoch 28/100\n",
            "12/12 [==============================] - 0s 11ms/step - loss: 0.0984 - accuracy: 0.9721 - val_loss: 0.2141 - val_accuracy: 0.9250\n",
            "Epoch 29/100\n",
            "12/12 [==============================] - 0s 9ms/step - loss: 0.0966 - accuracy: 0.9777 - val_loss: 0.2080 - val_accuracy: 0.9250\n",
            "Epoch 30/100\n",
            "12/12 [==============================] - 0s 8ms/step - loss: 0.0965 - accuracy: 0.9749 - val_loss: 0.2025 - val_accuracy: 0.9250\n",
            "Epoch 31/100\n",
            "12/12 [==============================] - 0s 8ms/step - loss: 0.0950 - accuracy: 0.9749 - val_loss: 0.2064 - val_accuracy: 0.9250\n",
            "Epoch 32/100\n",
            "12/12 [==============================] - 0s 12ms/step - loss: 0.0944 - accuracy: 0.9749 - val_loss: 0.1975 - val_accuracy: 0.9250\n",
            "Epoch 33/100\n",
            "12/12 [==============================] - 0s 8ms/step - loss: 0.0926 - accuracy: 0.9777 - val_loss: 0.2059 - val_accuracy: 0.9250\n",
            "Epoch 34/100\n",
            "12/12 [==============================] - 0s 9ms/step - loss: 0.0909 - accuracy: 0.9749 - val_loss: 0.2123 - val_accuracy: 0.9250\n",
            "Epoch 35/100\n",
            "12/12 [==============================] - 0s 10ms/step - loss: 0.0897 - accuracy: 0.9749 - val_loss: 0.2146 - val_accuracy: 0.9250\n",
            "Epoch 36/100\n",
            "12/12 [==============================] - 0s 9ms/step - loss: 0.0886 - accuracy: 0.9749 - val_loss: 0.2167 - val_accuracy: 0.9250\n",
            "Epoch 37/100\n",
            "12/12 [==============================] - 0s 8ms/step - loss: 0.0877 - accuracy: 0.9749 - val_loss: 0.2157 - val_accuracy: 0.9250\n",
            "Epoch 38/100\n",
            "12/12 [==============================] - 0s 8ms/step - loss: 0.0867 - accuracy: 0.9777 - val_loss: 0.2128 - val_accuracy: 0.9250\n",
            "Epoch 39/100\n",
            "12/12 [==============================] - 0s 16ms/step - loss: 0.0859 - accuracy: 0.9777 - val_loss: 0.2155 - val_accuracy: 0.9250\n",
            "Epoch 40/100\n",
            "12/12 [==============================] - 0s 9ms/step - loss: 0.0849 - accuracy: 0.9777 - val_loss: 0.2175 - val_accuracy: 0.9250\n",
            "Epoch 41/100\n",
            "12/12 [==============================] - 0s 16ms/step - loss: 0.0840 - accuracy: 0.9777 - val_loss: 0.2199 - val_accuracy: 0.9250\n",
            "Epoch 42/100\n",
            "12/12 [==============================] - 0s 8ms/step - loss: 0.0835 - accuracy: 0.9777 - val_loss: 0.2160 - val_accuracy: 0.9250\n",
            "Epoch 43/100\n",
            "12/12 [==============================] - 0s 10ms/step - loss: 0.0821 - accuracy: 0.9777 - val_loss: 0.2216 - val_accuracy: 0.9250\n",
            "Epoch 44/100\n",
            "12/12 [==============================] - 0s 8ms/step - loss: 0.0807 - accuracy: 0.9749 - val_loss: 0.2328 - val_accuracy: 0.9250\n",
            "Epoch 45/100\n",
            "12/12 [==============================] - 0s 9ms/step - loss: 0.0804 - accuracy: 0.9777 - val_loss: 0.2299 - val_accuracy: 0.9250\n",
            "Epoch 46/100\n",
            "12/12 [==============================] - 0s 8ms/step - loss: 0.0796 - accuracy: 0.9777 - val_loss: 0.2287 - val_accuracy: 0.9250\n",
            "Epoch 47/100\n",
            "12/12 [==============================] - 0s 8ms/step - loss: 0.0786 - accuracy: 0.9777 - val_loss: 0.2274 - val_accuracy: 0.9250\n",
            "Epoch 48/100\n",
            "12/12 [==============================] - 0s 12ms/step - loss: 0.0780 - accuracy: 0.9777 - val_loss: 0.2276 - val_accuracy: 0.9250\n",
            "Epoch 49/100\n",
            "12/12 [==============================] - 0s 8ms/step - loss: 0.0776 - accuracy: 0.9777 - val_loss: 0.2283 - val_accuracy: 0.9250\n",
            "Epoch 50/100\n",
            "12/12 [==============================] - 0s 9ms/step - loss: 0.0767 - accuracy: 0.9777 - val_loss: 0.2339 - val_accuracy: 0.9250\n",
            "Epoch 51/100\n",
            "12/12 [==============================] - 0s 8ms/step - loss: 0.0760 - accuracy: 0.9804 - val_loss: 0.2302 - val_accuracy: 0.9250\n",
            "Epoch 52/100\n",
            "12/12 [==============================] - 0s 11ms/step - loss: 0.0750 - accuracy: 0.9804 - val_loss: 0.2303 - val_accuracy: 0.9250\n",
            "Epoch 53/100\n",
            "12/12 [==============================] - 0s 10ms/step - loss: 0.0746 - accuracy: 0.9804 - val_loss: 0.2429 - val_accuracy: 0.9250\n",
            "Epoch 54/100\n",
            "12/12 [==============================] - 0s 8ms/step - loss: 0.0739 - accuracy: 0.9804 - val_loss: 0.2398 - val_accuracy: 0.9250\n",
            "Epoch 55/100\n",
            "12/12 [==============================] - 0s 7ms/step - loss: 0.0733 - accuracy: 0.9804 - val_loss: 0.2409 - val_accuracy: 0.9250\n",
            "Epoch 56/100\n",
            "12/12 [==============================] - 0s 13ms/step - loss: 0.0726 - accuracy: 0.9804 - val_loss: 0.2442 - val_accuracy: 0.9250\n",
            "Epoch 57/100\n",
            "12/12 [==============================] - 0s 8ms/step - loss: 0.0717 - accuracy: 0.9777 - val_loss: 0.2423 - val_accuracy: 0.9250\n",
            "Epoch 58/100\n",
            "12/12 [==============================] - 0s 6ms/step - loss: 0.0712 - accuracy: 0.9777 - val_loss: 0.2431 - val_accuracy: 0.9250\n",
            "Epoch 59/100\n",
            "12/12 [==============================] - 0s 16ms/step - loss: 0.0706 - accuracy: 0.9777 - val_loss: 0.2435 - val_accuracy: 0.9250\n",
            "Epoch 60/100\n",
            "12/12 [==============================] - 0s 9ms/step - loss: 0.0699 - accuracy: 0.9777 - val_loss: 0.2460 - val_accuracy: 0.9250\n",
            "Epoch 61/100\n",
            "12/12 [==============================] - 0s 9ms/step - loss: 0.0694 - accuracy: 0.9777 - val_loss: 0.2491 - val_accuracy: 0.9250\n",
            "Epoch 62/100\n",
            "12/12 [==============================] - 0s 12ms/step - loss: 0.0689 - accuracy: 0.9777 - val_loss: 0.2498 - val_accuracy: 0.9250\n",
            "Epoch 63/100\n",
            "12/12 [==============================] - 0s 8ms/step - loss: 0.0684 - accuracy: 0.9777 - val_loss: 0.2482 - val_accuracy: 0.9250\n",
            "Epoch 64/100\n",
            "12/12 [==============================] - 0s 10ms/step - loss: 0.0677 - accuracy: 0.9777 - val_loss: 0.2494 - val_accuracy: 0.9250\n",
            "Epoch 65/100\n",
            "12/12 [==============================] - 0s 7ms/step - loss: 0.0671 - accuracy: 0.9777 - val_loss: 0.2495 - val_accuracy: 0.9250\n",
            "Epoch 66/100\n",
            "12/12 [==============================] - 0s 9ms/step - loss: 0.0668 - accuracy: 0.9777 - val_loss: 0.2513 - val_accuracy: 0.9250\n",
            "Epoch 67/100\n",
            "12/12 [==============================] - 0s 16ms/step - loss: 0.0661 - accuracy: 0.9777 - val_loss: 0.2641 - val_accuracy: 0.9250\n",
            "Epoch 68/100\n",
            "12/12 [==============================] - 0s 12ms/step - loss: 0.0657 - accuracy: 0.9749 - val_loss: 0.2809 - val_accuracy: 0.9250\n",
            "Epoch 69/100\n",
            "12/12 [==============================] - 0s 8ms/step - loss: 0.0660 - accuracy: 0.9721 - val_loss: 0.2702 - val_accuracy: 0.9250\n",
            "Epoch 70/100\n",
            "12/12 [==============================] - 0s 12ms/step - loss: 0.0649 - accuracy: 0.9721 - val_loss: 0.2639 - val_accuracy: 0.9250\n",
            "Epoch 71/100\n",
            "12/12 [==============================] - 0s 11ms/step - loss: 0.0646 - accuracy: 0.9721 - val_loss: 0.2734 - val_accuracy: 0.9250\n",
            "Epoch 72/100\n",
            "12/12 [==============================] - 0s 10ms/step - loss: 0.0642 - accuracy: 0.9721 - val_loss: 0.2696 - val_accuracy: 0.9250\n",
            "Epoch 73/100\n",
            "12/12 [==============================] - 0s 10ms/step - loss: 0.0632 - accuracy: 0.9777 - val_loss: 0.2585 - val_accuracy: 0.9250\n",
            "Epoch 74/100\n",
            "12/12 [==============================] - 0s 9ms/step - loss: 0.0631 - accuracy: 0.9804 - val_loss: 0.2512 - val_accuracy: 0.9250\n",
            "Epoch 75/100\n",
            "12/12 [==============================] - 0s 10ms/step - loss: 0.0627 - accuracy: 0.9832 - val_loss: 0.2515 - val_accuracy: 0.9250\n",
            "Epoch 76/100\n",
            "12/12 [==============================] - 0s 10ms/step - loss: 0.0619 - accuracy: 0.9804 - val_loss: 0.2608 - val_accuracy: 0.9250\n",
            "Epoch 77/100\n",
            "12/12 [==============================] - 0s 7ms/step - loss: 0.0611 - accuracy: 0.9832 - val_loss: 0.2685 - val_accuracy: 0.9250\n",
            "Epoch 78/100\n",
            "12/12 [==============================] - 0s 10ms/step - loss: 0.0606 - accuracy: 0.9832 - val_loss: 0.2624 - val_accuracy: 0.9250\n",
            "Epoch 79/100\n",
            "12/12 [==============================] - 0s 10ms/step - loss: 0.0597 - accuracy: 0.9832 - val_loss: 0.2666 - val_accuracy: 0.9250\n",
            "Epoch 80/100\n",
            "12/12 [==============================] - 0s 7ms/step - loss: 0.0593 - accuracy: 0.9832 - val_loss: 0.2717 - val_accuracy: 0.9250\n",
            "Epoch 81/100\n",
            "12/12 [==============================] - 0s 9ms/step - loss: 0.0590 - accuracy: 0.9832 - val_loss: 0.2690 - val_accuracy: 0.9250\n",
            "Epoch 82/100\n",
            "12/12 [==============================] - 0s 9ms/step - loss: 0.0585 - accuracy: 0.9832 - val_loss: 0.2744 - val_accuracy: 0.9250\n",
            "Epoch 83/100\n",
            "12/12 [==============================] - 0s 12ms/step - loss: 0.0579 - accuracy: 0.9832 - val_loss: 0.2737 - val_accuracy: 0.9250\n",
            "Epoch 84/100\n",
            "12/12 [==============================] - 0s 10ms/step - loss: 0.0576 - accuracy: 0.9804 - val_loss: 0.2746 - val_accuracy: 0.9250\n",
            "Epoch 85/100\n",
            "12/12 [==============================] - 0s 8ms/step - loss: 0.0572 - accuracy: 0.9832 - val_loss: 0.2672 - val_accuracy: 0.9250\n",
            "Epoch 86/100\n",
            "12/12 [==============================] - 0s 7ms/step - loss: 0.0567 - accuracy: 0.9832 - val_loss: 0.2753 - val_accuracy: 0.9250\n",
            "Epoch 87/100\n",
            "12/12 [==============================] - 0s 12ms/step - loss: 0.0559 - accuracy: 0.9832 - val_loss: 0.2760 - val_accuracy: 0.9250\n",
            "Epoch 88/100\n",
            "12/12 [==============================] - 0s 8ms/step - loss: 0.0555 - accuracy: 0.9832 - val_loss: 0.2756 - val_accuracy: 0.9250\n",
            "Epoch 89/100\n",
            "12/12 [==============================] - 0s 15ms/step - loss: 0.0547 - accuracy: 0.9804 - val_loss: 0.2817 - val_accuracy: 0.9250\n",
            "Epoch 90/100\n",
            "12/12 [==============================] - 0s 7ms/step - loss: 0.0547 - accuracy: 0.9804 - val_loss: 0.2862 - val_accuracy: 0.9250\n",
            "Epoch 91/100\n",
            "12/12 [==============================] - 0s 11ms/step - loss: 0.0542 - accuracy: 0.9804 - val_loss: 0.2782 - val_accuracy: 0.9250\n",
            "Epoch 92/100\n",
            "12/12 [==============================] - 0s 12ms/step - loss: 0.0536 - accuracy: 0.9832 - val_loss: 0.2853 - val_accuracy: 0.9250\n",
            "Epoch 93/100\n",
            "12/12 [==============================] - 0s 8ms/step - loss: 0.0528 - accuracy: 0.9832 - val_loss: 0.2746 - val_accuracy: 0.9250\n",
            "Epoch 94/100\n",
            "12/12 [==============================] - 0s 7ms/step - loss: 0.0528 - accuracy: 0.9832 - val_loss: 0.2708 - val_accuracy: 0.9250\n",
            "Epoch 95/100\n",
            "12/12 [==============================] - 0s 8ms/step - loss: 0.0534 - accuracy: 0.9832 - val_loss: 0.2536 - val_accuracy: 0.9250\n",
            "Epoch 96/100\n",
            "12/12 [==============================] - 0s 7ms/step - loss: 0.0529 - accuracy: 0.9804 - val_loss: 0.2703 - val_accuracy: 0.9250\n",
            "Epoch 97/100\n",
            "12/12 [==============================] - 0s 9ms/step - loss: 0.0510 - accuracy: 0.9832 - val_loss: 0.2882 - val_accuracy: 0.9250\n",
            "Epoch 98/100\n",
            "12/12 [==============================] - 0s 11ms/step - loss: 0.0507 - accuracy: 0.9832 - val_loss: 0.3003 - val_accuracy: 0.9250\n",
            "Epoch 99/100\n",
            "12/12 [==============================] - 0s 11ms/step - loss: 0.0505 - accuracy: 0.9832 - val_loss: 0.2802 - val_accuracy: 0.9250\n",
            "Epoch 100/100\n",
            "12/12 [==============================] - 0s 9ms/step - loss: 0.0504 - accuracy: 0.9804 - val_loss: 0.3031 - val_accuracy: 0.9250\n"
          ]
        }
      ]
    },
    {
      "cell_type": "code",
      "source": [
        "plt.plot(nn.history['accuracy'])\n",
        "plt.plot(nn.history['val_accuracy'])\n",
        "\n",
        "plt.title('Model Accuracy')\n",
        "plt.ylabel('Accuracy')\n",
        "plt.xlabel('Epoch')\n",
        "\n",
        "plt.legend(['Training Data', 'Validation Data'], loc = 'lower right')"
      ],
      "metadata": {
        "colab": {
          "base_uri": "https://localhost:8080/",
          "height": 312
        },
        "id": "Mj7SJYCtqJyo",
        "outputId": "bf4d212c-54dc-40e4-9b0c-c4887c83f5db"
      },
      "execution_count": null,
      "outputs": [
        {
          "output_type": "execute_result",
          "data": {
            "text/plain": [
              "<matplotlib.legend.Legend at 0x7f8ef6ae3490>"
            ]
          },
          "metadata": {},
          "execution_count": 13
        },
        {
          "output_type": "display_data",
          "data": {
            "text/plain": [
              "<Figure size 432x288 with 1 Axes>"
            ],
            "image/png": "[encoded data removed]"
          },
          "metadata": {
            "needs_background": "light"
          }
        }
      ]
    },
    {
      "cell_type": "code",
      "source": [
        "loss, accuracy = model.evaluate(X_test_std, y_test)\n",
        "print(\"Accuracy:\",accuracy*100)"
      ],
      "metadata": {
        "colab": {
          "base_uri": "https://localhost:8080/"
        },
        "id": "umka2E-bqfnO",
        "outputId": "d9ac6736-2b9f-4bfe-cf6b-31942ccb9fc5"
      },
      "execution_count": null,
      "outputs": [
        {
          "output_type": "stream",
          "name": "stdout",
          "text": [
            "6/6 [==============================] - 0s 3ms/step - loss: 0.1362 - accuracy: 0.9240\n",
            "0.9239766001701355\n"
          ]
        }
      ]
    }
  ]
}